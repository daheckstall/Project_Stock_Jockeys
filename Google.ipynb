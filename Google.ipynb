{
 "cells": [
  {
   "cell_type": "code",
   "execution_count": null,
   "metadata": {},
   "outputs": [],
   "source": [
    "\n",
    "from quantopian.research import prices, symbols\n",
    "import pandas as pd"
   ]
  },
  {
   "cell_type": "code",
   "execution_count": null,
   "metadata": {},
   "outputs": [],
   "source": [
    "#Query historical pricing data for Google\n",
    "GOOG_close = prices(assets=symbols('GOOG'),start='2017-07-02',end='2018-07-02',)"
   ]
  },
  {
   "cell_type": "code",
   "execution_count": null,
   "metadata": {},
   "outputs": [],
   "source": [
    "# 20, 50, 200 SMA\n",
    "GOOG_sma20 = GOOG_close.rolling(20).mean()\n",
    "GOOG_sma50 = GOOG_close.rolling(50).mean()\n",
    "GOOG_sma100 = GOOG_close.rolling(100).mean()"
   ]
  },
  {
   "cell_type": "code",
   "execution_count": null,
   "metadata": {},
   "outputs": [],
   "source": [
    "# Combine results into a pandas DataFrame and plot\n",
    "pd.DataFrame({'GOOG': GOOG_close,'SMA20': GOOG_sma20,'SMA50': GOOG_sma50, 'SMA100' :GOOG_sma100 }).plot(title='GOOG Close Price / SMA Crossover"
   ]
  }
 ],
 "metadata": {
  "kernelspec": {
   "display_name": "Python 3",
   "language": "python",
   "name": "python3"
  },
  "language_info": {
   "codemirror_mode": {
    "name": "ipython",
    "version": 3
   },
   "file_extension": ".py",
   "mimetype": "text/x-python",
   "name": "python",
   "nbconvert_exporter": "python",
   "pygments_lexer": "ipython3",
   "version": "3.6.4"
  }
 },
 "nbformat": 4,
 "nbformat_minor": 2
}
