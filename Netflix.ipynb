{
 "cells": [
  {
   "cell_type": "code",
   "execution_count": null,
   "metadata": {},
   "outputs": [],
   "source": [
    "from quantopian.research import prices, symbols\n",
    "import pandas as pd"
   ]
  },
  {
   "cell_type": "code",
   "execution_count": null,
   "metadata": {},
   "outputs": [],
   "source": [
    "# Query historical pricing data for Netflix\n",
    "Netflix_close = prices(assets=symbols('NFLX'),start='2017-07-02',end='2018-07-02',)"
   ]
  },
  {
   "cell_type": "code",
   "execution_count": null,
   "metadata": {},
   "outputs": [],
   "source": [
    "# 20, 50, 200 SMA\n",
    "Netflix_sma20 = Netflix_close.rolling(20).mean()\n",
    "Netflix_sma50 = Netflix_close.rolling(50).mean()\n",
    "Netflix_sma100 = Netflix_close.rolling(100).mean()"
   ]
  },
  {
   "cell_type": "code",
   "execution_count": null,
   "metadata": {},
   "outputs": [],
   "source": [
    "# Combine results into a pandas DataFrame and plot\n",
    "pd.DataFrame({'NFLX': Netflix_close,'SMA20': Netflix_sma20,'SMA50': Netflix_sma50, 'SMA100' :Netflix_sma100 }).plot(title='Netflix Close Price / SMA Crossover"
   ]
  }
 ],
 "metadata": {
  "kernelspec": {
   "display_name": "Python 3",
   "language": "python",
   "name": "python3"
  },
  "language_info": {
   "codemirror_mode": {
    "name": "ipython",
    "version": 3
   },
   "file_extension": ".py",
   "mimetype": "text/x-python",
   "name": "python",
   "nbconvert_exporter": "python",
   "pygments_lexer": "ipython3",
   "version": "3.6.4"
  }
 },
 "nbformat": 4,
 "nbformat_minor": 2
}
